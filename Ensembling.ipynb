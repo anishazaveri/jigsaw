{
 "cells": [
  {
   "cell_type": "code",
   "execution_count": 1,
   "metadata": {
    "ExecuteTime": {
     "end_time": "2020-03-23T16:33:42.386932Z",
     "start_time": "2020-03-23T16:33:41.482936Z"
    }
   },
   "outputs": [],
   "source": [
    "import pandas as pd"
   ]
  },
  {
   "cell_type": "markdown",
   "metadata": {},
   "source": [
    "Merge all predictions such that shape of df is [number_of_examples_in_val_df, number_models_run+'target'] (Code not shown since too many dataframes to be downloaded from kaggle)\n",
    "\n",
    "\n",
    "While many models were trained, the challenge allows kernel-only submissions which have to run from raw data to test results in 9 hours. While pretrained models can be uploaded, prredictions must be complete within 9 hours (kernel running time). Hence only a subset of models can be used in practice. Therefore, an ensemble model was fit using logistic regression with a high lasso coefficient. This allows for feature selection. Next, the df was restricted to the selected features and fit to a final logistic regression model. This model is saved and used for predicting on the test set. "
   ]
  },
  {
   "cell_type": "code",
   "execution_count": null,
   "metadata": {},
   "outputs": [],
   "source": [
    "#pred cols are those with predictions from models\n",
    "pred_cols = [c for c in df.columns if c not in non_pred_cols]\n",
    "X = df[pred_cols].values\n",
    "y = df['target'].values\n",
    "\n",
    "#fit in log-reg model with strong lasso!\n",
    "clf = LogisticRegression(penalty='l1', class_weight='balanced', random_state=42, solver='liblinear', C=0.005)\n",
    "clf.fit(X,y)\n",
    "\n",
    "#select the features with the top 6 coefficients\n",
    "lr_coefs = pd.Series(clf.coef_[0,:], index=pred_cols).sort_values(ascending=False)\n",
    "selected_cols = list(lr_coefs.index[0:6])\n",
    "print(selected_cols)\n",
    "\n",
    "#restrict data to selected features\n",
    "X_sel = df[selected_cols].values\n",
    "clf_sel_final = LogisticRegression(penalty='l1', class_weight='balanced', random_state=42, solver='liblinear', C=1)\n",
    "clf_sel_final.fit(X_sel,y)"
   ]
  },
  {
   "cell_type": "code",
   "execution_count": null,
   "metadata": {},
   "outputs": [],
   "source": [
    "from sklearn.externals import joblib\n",
    "joblib.dump(clf_sel_final, 'clf_sel_final.pkl')"
   ]
  },
  {
   "cell_type": "markdown",
   "metadata": {
    "ExecuteTime": {
     "end_time": "2020-03-23T16:45:07.055838Z",
     "start_time": "2020-03-23T16:45:07.036841Z"
    }
   },
   "source": [
    "The top 6 models selected for ensembling were:\n",
    "\n",
    "1. **test_results_float_p2_e2** : BERT run with the entire training set for 2 epochs, with targets as float and unweighted cross entropy loss\n",
    "2. **test_results_pretrained_72K_float_p1_e2_weighted-m3**: BERT pretrained on 72K of the examples and subsequently run for 1.5 epochs, with targets as float and weighted cross entropy loss with weights assigned by method3\n",
    "3. **test_results_pretrained_72K_float_p2_weighted-m3**: BERT pretrained on 72K of the examples and subsequently run for 1 epoch, with targets as float and weighted cross entropy loss with weights assigned by method3\n",
    "4. **test_results_float_p1_e2**: BERT run with the entire training set for 1.5 epochs, with targets as float and unweighted cross entropy loss\n",
    "5. **epoch0_lstm_glove_ft_0.05_nc-m3**: LSTM with 1 epoch using glove and fasttext embeddings. Dropout was 0.05. No characters were removed from the comment_text. Loss was weighted cross entropy with weights assigned as method 3 \n",
    "6. **test_results_float_p1_cased'**: Cased BERT run for 0.5 epochs with targets as float and unweighted cross entropy loss"
   ]
  }
 ],
 "metadata": {
  "kernelspec": {
   "display_name": "Python 3",
   "language": "python",
   "name": "python3"
  },
  "language_info": {
   "codemirror_mode": {
    "name": "ipython",
    "version": 3
   },
   "file_extension": ".py",
   "mimetype": "text/x-python",
   "name": "python",
   "nbconvert_exporter": "python",
   "pygments_lexer": "ipython3",
   "version": "3.7.3"
  },
  "toc": {
   "base_numbering": 1,
   "nav_menu": {},
   "number_sections": true,
   "sideBar": true,
   "skip_h1_title": false,
   "title_cell": "Table of Contents",
   "title_sidebar": "Contents",
   "toc_cell": false,
   "toc_position": {},
   "toc_section_display": true,
   "toc_window_display": false
  },
  "varInspector": {
   "cols": {
    "lenName": 16,
    "lenType": 16,
    "lenVar": 40
   },
   "kernels_config": {
    "python": {
     "delete_cmd_postfix": "",
     "delete_cmd_prefix": "del ",
     "library": "var_list.py",
     "varRefreshCmd": "print(var_dic_list())"
    },
    "r": {
     "delete_cmd_postfix": ") ",
     "delete_cmd_prefix": "rm(",
     "library": "var_list.r",
     "varRefreshCmd": "cat(var_dic_list()) "
    }
   },
   "types_to_exclude": [
    "module",
    "function",
    "builtin_function_or_method",
    "instance",
    "_Feature"
   ],
   "window_display": false
  }
 },
 "nbformat": 4,
 "nbformat_minor": 2
}
